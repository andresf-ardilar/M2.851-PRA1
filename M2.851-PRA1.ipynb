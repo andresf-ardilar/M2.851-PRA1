{
 "cells": [
  {
   "cell_type": "markdown",
   "metadata": {
    "pycharm": {
     "name": "#%% md\n"
    }
   },
   "source": [
    "# Contexto\n",
    "En el negocio de las telecomunicaciones se debe revisar con frecuencia los cambios de oferta de los competidores. Estos cambios de oferta (planes de telefonía móvil y servicios hogar como internet y televisión) son publicados en medios masivos como televisión y en la página web del competidor.\n",
    "\n",
    "Los cambios de oferta pueden ser la llegada de un nuevo jugador al mercado, campañas promocionales y servicios convergentes\n",
    "\n",
    "El Web Scraping resulta muy útil en este contexto: mediante herramientas automatizadas se puede reaccionar rápidamente a un cambio el mercado, detectando la oferta y planteando las acciones de negocio a las que haya lugar para no perder e incluso aumentar el market share.\n",
    "\n",
    "Se eligieron los sitios:\n",
    "* compras.tigo.com.co/movil/pospago\n",
    "* movistar.co/pospago\n",
    "\n",
    "Tigo y Movistar son competidores principales en el mercado Colombiano en servicios de telecomunicaciones\n",
    "\n",
    "# Título\n",
    "Ofertas de servicios pospago (telefonía móvil) en Colombia (Tigo y Movistar)\n",
    "\n",
    "# Descripción del dataset\n",
    "Este dataset contempla las ofertas de pospago de las empresas de telecomunicaciones Tigo y Movistar en Colombia. Las ofertas incluye el precio en moneda local, beneficios del plan y tipos de compra, entre otros\n",
    "\n",
    "# Representación gráfica\n",
    "\n",
    "# Contenido\n",
    "El dataset se generó mediante web scraping de la oferta publicada en las páginas web de ambas compañías.\n",
    "\n",
    "El periodo de tiempo de los datos corresponden al XX de noviembre de 2021\n",
    "\n",
    "Los campos que incluye el dataset son:\n",
    "* Price: Precio del plan pospago en miles y en COP\n",
    "* Taxes: Impuesto incluido o no en el precio final (campo \"Prices\")\n",
    "* Navigation Data: Cantidad de datos en GB del plan para navegar en internet\n",
    "* Benefits text: Texto de beneficios del plan sin procesar\n",
    "* Benefits services: Servicios incluidos en el plan separados por coma\n",
    "* Benefits types: Tipos incluidos en el plan separados por coma\n",
    "* Adquisition types: Opciones de compra del plan separadas por coma\n",
    "* Offer date: Fecha UTC en la que se obtienen los datos de la oferta\n",
    "\n",
    "# Agradecimientos\n",
    "En sitios como kaggle y data.world se encuentran múltiples dataset relacionados al reconocimiento, clasificación y comportamiento del cliente (p. ej. tasa de cancelación o \"churn\"). En la búsqueda efectuada no se encontró ningún dataset que contenga las ofertas y detalles de planes de telefonía móvil.\n",
    "\n",
    "Consideramos que es una oportunidad importante capturar históricamente (series de tiempo) los datos de las diferentes ofertas del mercado para ser analizados mediante técnicas de estadística y data mining.\n",
    "\n",
    "Los datos contenidos en el dataset son totalmente públicos y corresponden a la oferta Above The Line (ATL), por tanto, no se infringe ningún marco normativo, ni principio ético\n",
    "\n",
    "# Inspiración\n",
    "El data set permite comparar las diferentes ofertas de las empresas de telecomunicaciones líderes en el país de forma automática y con su respectiva marca de tiempo. Inicialmente se obtienen los datos de una sola fecha, pero puede programarse el script de web scraping para que se ejecute recurrentemente y cuando detecte un cambio inserte nuevos registros con la respectiva fecha creando una serie de tiempo que puede ser analizada desde diferentes perspectivas.\n",
    "\n",
    "Se pueden responder preguntas como:\n",
    "* Cuál es el cambio de Gb de los planes en el tiempo?\n",
    "* Cómo cambian los beneficios de los planes en el tiempo?\n",
    "* Cómo cambian las formas de compra de los planes en el tiempo?\n",
    "* Cómo cambian los precios e impuestos de los planes en el tiempo?\n",
    "* Para una determinada fecha cómo cambio la oferta ATL en el mercado?\n",
    "\n",
    "# Licencia\n",
    " Una gran cantidad de datos pueden ser compartidos y explotados de múltiples formas irrestrictas (pero éticas), para lograr avances, conclusiones y mejoras a diferentes niveles. El dato persistido (y compartido) es el fundamento del conocimiento de la raza humana.\n",
    "\n",
    "Creemos en la filosofía Open Data\n",
    "\n",
    "Este data set se expone bajo licencia CC0 1.0 Public Domain Dedication\n",
    "\n",
    "# Código\n",
    "El código fuente de la solución está en [repositorio GitHub](https://github.com/andresf-ardilar/M2.851-PRA1.git)\n",
    "\n",
    "# Dataset\n",
    "\n",
    "# Tabla de contribuciones\n",
    "\n",
    "| Contribuciones | Firma |\n",
    "|---|---|\n",
    "| Investigación previa | ![Firma Andres Ardila](assets/AndresArdila.png)  |\n",
    "| Redacción de las respuestas | ![Firma Andres Ardila](assets/AndresArdila.png) |\n",
    "| Desarrollo del código | ![Firma Andres Ardila](assets/AndresArdila.png) |"
   ]
  }
 ],
 "metadata": {
  "kernelspec": {
   "display_name": "Python 3 (ipykernel)",
   "language": "python",
   "name": "python3"
  },
  "language_info": {
   "codemirror_mode": {
    "name": "ipython",
    "version": 3
   },
   "file_extension": ".py",
   "mimetype": "text/x-python",
   "name": "python",
   "nbconvert_exporter": "python",
   "pygments_lexer": "ipython3",
   "version": "3.9.7"
  }
 },
 "nbformat": 4,
 "nbformat_minor": 1
}